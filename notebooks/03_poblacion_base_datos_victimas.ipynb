{
 "cells": [
  {
   "cell_type": "markdown",
   "metadata": {},
   "source": [
    "# Notebook 3: Población de la Base de Datos de Víctimas\n",
    "\n",
    "En este notebook, vamos a conectarnos a una base de datos MySQL y poblarla con datos de víctimas de violencia."
   ]
  },
  {
   "cell_type": "markdown",
   "metadata": {},
   "source": [
    "## 0. Instalación de la Librería mysql-connector-python\n",
    "\n",
    "Antes de conectarnos a MySQL, necesitamos instalar la librería mysql-connector-python si no la tienes instalada."
   ]
  },
  {
   "cell_type": "code",
   "execution_count": 1,
   "metadata": {},
   "outputs": [
    {
     "name": "stdout",
     "output_type": "stream",
     "text": [
      "Requirement already satisfied: mysql-connector-python in c:\\users\\xanti\\appdata\\local\\programs\\python\\python312\\lib\\site-packages (9.3.0)Note: you may need to restart the kernel to use updated packages.\n"
     ]
    },
    {
     "name": "stderr",
     "output_type": "stream",
     "text": [
      "\n",
      "[notice] A new release of pip is available: 25.0.1 -> 25.1.1\n",
      "[notice] To update, run: python.exe -m pip install --upgrade pip\n"
     ]
    },
    {
     "name": "stdout",
     "output_type": "stream",
     "text": [
      "\n"
     ]
    }
   ],
   "source": [
    "pip install mysql-connector-python"
   ]
  },
  {
   "cell_type": "code",
   "execution_count": 6,
   "metadata": {},
   "outputs": [],
   "source": [
    "import pandas as pd\n",
    "import mysql.connector as sql # Importar el conector de MySQL\n",
    "import csv\n",
    "import os"
   ]
  },
  {
   "cell_type": "markdown",
   "metadata": {},
   "source": [
    "# Carga dinamica de los csv en data/data_split"
   ]
  },
  {
   "cell_type": "code",
   "execution_count": 31,
   "metadata": {},
   "outputs": [
    {
     "name": "stdout",
     "output_type": "stream",
     "text": [
      "\n",
      "📦 Resumen de archivos cargados:\n",
      "✅ 'hecho_victimizante' cargado con éxito. Filas: 16, Columnas: 2\n"
     ]
    }
   ],
   "source": [
    "# Rutas de los archivos CSV\n",
    "paths = {\n",
    "    # 'main_data': '../data/processed/victimas_por_hechos_departamental_20250416.csv'\n",
    "    'hecho_victimizante': '../data/data_split/hecho_victimizante.csv',\n",
    "    # 'departamento': '../data/data_split/departamento.csv',\n",
    "    # 'reporte_hecho': '../data/data_split/reporte_hecho.csv',\n",
    "    # 'grupo_poblacional': '../data/data_split/grupo_poblacional.csv',\n",
    "    # 'reporte_grupo': 'reporte_hecho y grupo_poblacional misma PK',\n",
    "}\n",
    "\n",
    "# Diccionario para guardar los DataFrames cargados\n",
    "dfs = {}\n",
    "\n",
    "for name, path in paths.items():\n",
    "    try:\n",
    "        # Intentar cargar con UTF-8\n",
    "        df = pd.read_csv(path, encoding='utf-8')\n",
    "    except UnicodeDecodeError:\n",
    "        try:\n",
    "            # Intentar cargar con Latin1 si falla UTF-8\n",
    "            df = pd.read_csv(path, encoding='latin1')\n",
    "        except Exception as e:\n",
    "            print(f\"❌ Error cargando '{name}' desde '{path}': {e}\")\n",
    "            df = None\n",
    "    dfs[name] = df\n",
    "\n",
    "# Mostrar resumen de la carga\n",
    "print(\"\\n📦 Resumen de archivos cargados:\")\n",
    "for name, df in dfs.items():\n",
    "    if df is not None:\n",
    "        print(f\"✅ '{name}' cargado con éxito. Filas: {df.shape[0]}, Columnas: {df.shape[1]}\")\n",
    "    else:\n",
    "        print(f\"⚠️ '{name}' no se cargó correctamente.\")\n"
   ]
  },
  {
   "cell_type": "markdown",
   "metadata": {},
   "source": [
    "## Accediendo a df cargados en el notebook anterior\n",
    "Los dataframes se encuentran guardados en el diccionario `dfs` el siguiente codigo es un ejemplo basico para acceder a cada contenido para ejecutar cualquier comando de pandas con normalidad."
   ]
  },
  {
   "cell_type": "code",
   "execution_count": 30,
   "metadata": {},
   "outputs": [
    {
     "data": {
      "text/html": [
       "<div>\n",
       "<style scoped>\n",
       "    .dataframe tbody tr th:only-of-type {\n",
       "        vertical-align: middle;\n",
       "    }\n",
       "\n",
       "    .dataframe tbody tr th {\n",
       "        vertical-align: top;\n",
       "    }\n",
       "\n",
       "    .dataframe thead th {\n",
       "        text-align: right;\n",
       "    }\n",
       "</style>\n",
       "<table border=\"1\" class=\"dataframe\">\n",
       "  <thead>\n",
       "    <tr style=\"text-align: right;\">\n",
       "      <th></th>\n",
       "      <th>PARAM_HECHO</th>\n",
       "      <th>HECHO</th>\n",
       "    </tr>\n",
       "  </thead>\n",
       "  <tbody>\n",
       "    <tr>\n",
       "      <th>0</th>\n",
       "      <td>1</td>\n",
       "      <td>Acto terrorista / Atentados / Combates / Enfre...</td>\n",
       "    </tr>\n",
       "    <tr>\n",
       "      <th>1</th>\n",
       "      <td>2</td>\n",
       "      <td>Amenaza</td>\n",
       "    </tr>\n",
       "    <tr>\n",
       "      <th>2</th>\n",
       "      <td>3</td>\n",
       "      <td>Delitos contra la libertad y la integridad sex...</td>\n",
       "    </tr>\n",
       "    <tr>\n",
       "      <th>3</th>\n",
       "      <td>4</td>\n",
       "      <td>Desaparición forzada</td>\n",
       "    </tr>\n",
       "    <tr>\n",
       "      <th>4</th>\n",
       "      <td>5</td>\n",
       "      <td>Desplazamiento forzado</td>\n",
       "    </tr>\n",
       "  </tbody>\n",
       "</table>\n",
       "</div>"
      ],
      "text/plain": [
       "   PARAM_HECHO                                              HECHO\n",
       "0            1  Acto terrorista / Atentados / Combates / Enfre...\n",
       "1            2                                            Amenaza\n",
       "2            3  Delitos contra la libertad y la integridad sex...\n",
       "3            4                               Desaparición forzada\n",
       "4            5                             Desplazamiento forzado"
      ]
     },
     "execution_count": 30,
     "metadata": {},
     "output_type": "execute_result"
    }
   ],
   "source": [
    "dfs['hecho_victimizante'][['PARAM_HECHO', 'HECHO']].head()"
   ]
  },
  {
   "cell_type": "markdown",
   "metadata": {},
   "source": [
    "## Establecer la Conexión con MySQL\n",
    "\n",
    "Para conectarnos a un servidor MySQL, necesitamos las credenciales de acceso (host, usuario, contraseña y base de datos). Utilizamos el método mysql.connector.connect() para establecer la conexión."
   ]
  },
  {
   "cell_type": "code",
   "execution_count": 32,
   "metadata": {},
   "outputs": [
    {
     "name": "stdout",
     "output_type": "stream",
     "text": [
      "Conexión exitosa a la base de datos\n"
     ]
    }
   ],
   "source": [
    "# Conectar a la base de datos\n",
    "conexion = sql.connect(\n",
    "    host=\"localhost\", # Cambiar por el host de la base de datos \n",
    "    port=3306, # Cambiar por el puerto de la base de datos \n",
    "    user=\"root\", # Cambiar por el usuario de la base de datos\n",
    "    password=\"evamaria\", # Cambiar por la contraseña del usuario\n",
    "    database=\"conflicto_armado\" # Cambiar por el nombre de la base de datos\n",
    ")\n",
    "\n",
    "if conexion.is_connected():\n",
    "    print(\"Conexión exitosa a la base de datos\")\n",
    "\n",
    "# conexion.close()"
   ]
  },
  {
   "cell_type": "markdown",
   "metadata": {},
   "source": [
    "## Poblacion de la base de datos de conflicto_armado\n",
    "En las siguientes celdas se realiza la carga de los datos desde sus respectivos dataframes."
   ]
  },
  {
   "cell_type": "markdown",
   "metadata": {},
   "source": [
    "### Tabla: HechoVictimizante"
   ]
  },
  {
   "cell_type": "code",
   "execution_count": 37,
   "metadata": {},
   "outputs": [
    {
     "name": "stdout",
     "output_type": "stream",
     "text": [
      "❌ Error insertando el hecho con ID 1: 1062 (23000): Duplicate entry '1' for key 'hechovictimizante.PRIMARY'\n",
      "❌ Error insertando el hecho con ID 2: 1062 (23000): Duplicate entry '2' for key 'hechovictimizante.PRIMARY'\n",
      "❌ Error insertando el hecho con ID 3: 1062 (23000): Duplicate entry '3' for key 'hechovictimizante.PRIMARY'\n",
      "❌ Error insertando el hecho con ID 4: 1062 (23000): Duplicate entry '4' for key 'hechovictimizante.PRIMARY'\n",
      "❌ Error insertando el hecho con ID 5: 1062 (23000): Duplicate entry '5' for key 'hechovictimizante.PRIMARY'\n",
      "❌ Error insertando el hecho con ID 6: 1062 (23000): Duplicate entry '6' for key 'hechovictimizante.PRIMARY'\n",
      "❌ Error insertando el hecho con ID 7: 1062 (23000): Duplicate entry '7' for key 'hechovictimizante.PRIMARY'\n",
      "❌ Error insertando el hecho con ID 8: 1062 (23000): Duplicate entry '8' for key 'hechovictimizante.PRIMARY'\n",
      "❌ Error insertando el hecho con ID 9: 1062 (23000): Duplicate entry '9' for key 'hechovictimizante.PRIMARY'\n",
      "❌ Error insertando el hecho con ID 10: 1062 (23000): Duplicate entry '10' for key 'hechovictimizante.PRIMARY'\n",
      "❌ Error insertando el hecho con ID 11: 1062 (23000): Duplicate entry '11' for key 'hechovictimizante.PRIMARY'\n",
      "❌ Error insertando el hecho con ID 12: 1062 (23000): Duplicate entry '12' for key 'hechovictimizante.PRIMARY'\n",
      "❌ Error insertando el hecho con ID 13: 1062 (23000): Duplicate entry '13' for key 'hechovictimizante.PRIMARY'\n",
      "❌ Error insertando el hecho con ID 14: 1062 (23000): Duplicate entry '14' for key 'hechovictimizante.PRIMARY'\n",
      "❌ Error insertando el hecho con ID 15: 1062 (23000): Duplicate entry '15' for key 'hechovictimizante.PRIMARY'\n",
      "❌ Error insertando el hecho con ID 20: 1062 (23000): Duplicate entry '20' for key 'hechovictimizante.PRIMARY'\n",
      "✅ Inserción completada en HechoVictimizante.\n"
     ]
    },
    {
     "data": {
      "text/plain": [
       "True"
      ]
     },
     "execution_count": 37,
     "metadata": {},
     "output_type": "execute_result"
    }
   ],
   "source": [
    "cursor = conexion.cursor()\n",
    "\n",
    "df_hecho = dfs['hecho_victimizante']\n",
    "\n",
    "# Iterar sobre las filas del DataFrame\n",
    "for _, row in df_hecho.iterrows():\n",
    "    try:\n",
    "        query = \"\"\"\n",
    "            INSERT INTO HechoVictimizante (id_hecho, nombre_hecho)\n",
    "            VALUES (%s, %s)\n",
    "        \"\"\"\n",
    "        values = (int(row['PARAM_HECHO']), row['HECHO'])  # Asegurar el tipo entero\n",
    "        cursor.execute(query, values)\n",
    "    except Exception as e:\n",
    "        print(f\"❌ Error insertando el hecho con ID {row['PARAM_HECHO']}: {e}\")\n",
    "\n",
    "# Confirmar los cambios\n",
    "conexion.commit()\n",
    "print(\"✅ Inserción completada en HechoVictimizante.\")\n",
    "\n",
    "cursor.close()"
   ]
  },
  {
   "cell_type": "markdown",
   "metadata": {},
   "source": [
    "### Tabla: Departamento"
   ]
  },
  {
   "cell_type": "code",
   "execution_count": null,
   "metadata": {},
   "outputs": [],
   "source": [
    "cursor = conexion.cursor()\n",
    "\n",
    "df_hecho = dfs['departamento']\n",
    "\n",
    "# Iterar sobre las filas del DataFrame\n",
    "for _, row in df_hecho.iterrows():\n",
    "    try:\n",
    "        query = \"\"\"\n",
    "            INSERT INTO Departamento (id_departamento, nombre_departamento)\n",
    "            VALUES (%s, %s)\n",
    "        \"\"\"\n",
    "        values = (int(row['COD_ESTADO_DEPTO']), row['ESTADO_DEPTO'])  # Asegurar el tipo entero\n",
    "        cursor.execute(query, values)\n",
    "    except Exception as e:\n",
    "        print(f\"❌ Error insertando el hecho con ID {row['COD_ESTADO_DEPTO']}: {e}\")\n",
    "\n",
    "# Confirmar los cambios\n",
    "conexion.commit()\n",
    "print(\"✅ Inserción completada en Departamento.\")\n",
    "\n",
    "cursor.close()"
   ]
  }
 ],
 "metadata": {
  "kernelspec": {
   "display_name": "Python 3",
   "language": "python",
   "name": "python3"
  },
  "language_info": {
   "codemirror_mode": {
    "name": "ipython",
    "version": 3
   },
   "file_extension": ".py",
   "mimetype": "text/x-python",
   "name": "python",
   "nbconvert_exporter": "python",
   "pygments_lexer": "ipython3",
   "version": "3.12.4"
  }
 },
 "nbformat": 4,
 "nbformat_minor": 2
}
