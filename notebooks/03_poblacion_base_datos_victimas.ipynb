{
 "cells": [
  {
   "cell_type": "code",
   "execution_count": 1,
   "metadata": {},
   "outputs": [],
   "source": [
    "import pandas as pd\n",
    "import csv\n",
    "import os"
   ]
  },
  {
   "cell_type": "code",
   "execution_count": 2,
   "metadata": {},
   "outputs": [
    {
     "name": "stdout",
     "output_type": "stream",
     "text": [
      "Dataset cargado exitosamente. Dimensiones: (871368, 11)\n"
     ]
    }
   ],
   "source": [
    "# Define the relative path to the data file\n",
    "data_path = '../data/processed/victimas_por_hechos_departamental_20250416.csv'\n",
    "\n",
    "# Load the dataset\n",
    "try:\n",
    "    # Attempt to read with UTF-8 encoding first\n",
    "    df = pd.read_csv(data_path, encoding='utf-8') \n",
    "except UnicodeDecodeError:\n",
    "    try:\n",
    "        # Fallback to Latin-1 encoding if UTF-8 fails\n",
    "        df = pd.read_csv(data_path, encoding='latin1') \n",
    "    except Exception as e:\n",
    "        print(f\"Error loading CSV file: {e}\")\n",
    "        df = None # Indicate failure by setting df to None\n",
    "\n",
    "# Verificar si el dataset se cargó correctamente\n",
    "if df is not None:\n",
    "    print(f\"Dataset cargado exitosamente. Dimensiones: {df.shape}\")\n",
    "else:\n",
    "    print(\"Error al cargar el dataset. Por favor, verifica la ruta y la codificación del archivo.\")"
   ]
  },
  {
   "cell_type": "markdown",
   "metadata": {},
   "source": []
  },
  {
   "cell_type": "code",
   "execution_count": null,
   "metadata": {},
   "outputs": [],
   "source": []
  }
 ],
 "metadata": {
  "kernelspec": {
   "display_name": "Python 3",
   "language": "python",
   "name": "python3"
  },
  "language_info": {
   "codemirror_mode": {
    "name": "ipython",
    "version": 3
   },
   "file_extension": ".py",
   "mimetype": "text/x-python",
   "name": "python",
   "nbconvert_exporter": "python",
   "pygments_lexer": "ipython3",
   "version": "3.12.4"
  }
 },
 "nbformat": 4,
 "nbformat_minor": 2
}
