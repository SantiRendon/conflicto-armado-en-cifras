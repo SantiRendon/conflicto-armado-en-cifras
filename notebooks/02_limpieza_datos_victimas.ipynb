{
 "cells": [
  {
   "cell_type": "markdown",
   "metadata": {},
   "source": [
    "# 02. Limpieza de datos\n",
    "\n",
    "Este notebook contiene la limpieza del dataset de víctimas del conflicto armado en Colombia."
   ]
  },
  {
   "cell_type": "markdown",
   "metadata": {},
   "source": [
    "## Importación de Librerías\n",
    "\n",
    "Importamos las librerías necesarias para el análisis de datos."
   ]
  },
  {
   "cell_type": "code",
   "execution_count": 1,
   "metadata": {},
   "outputs": [
    {
     "name": "stdout",
     "output_type": "stream",
     "text": [
      "['Solarize_Light2', '_classic_test_patch', '_mpl-gallery', '_mpl-gallery-nogrid', 'bmh', 'classic', 'dark_background', 'fast', 'fivethirtyeight', 'ggplot', 'grayscale', 'petroff10', 'seaborn-v0_8', 'seaborn-v0_8-bright', 'seaborn-v0_8-colorblind', 'seaborn-v0_8-dark', 'seaborn-v0_8-dark-palette', 'seaborn-v0_8-darkgrid', 'seaborn-v0_8-deep', 'seaborn-v0_8-muted', 'seaborn-v0_8-notebook', 'seaborn-v0_8-paper', 'seaborn-v0_8-pastel', 'seaborn-v0_8-poster', 'seaborn-v0_8-talk', 'seaborn-v0_8-ticks', 'seaborn-v0_8-white', 'seaborn-v0_8-whitegrid', 'tableau-colorblind10']\n"
     ]
    }
   ],
   "source": [
    "import pandas as pd\n",
    "import numpy as np\n",
    "import matplotlib.pyplot as plt\n",
    "import seaborn as sns\n",
    "\n",
    "# Configuración general\n",
    "sns.set_theme(style=\"whitegrid\", font_scale=1.2)  # Estilo seaborn\n",
    "\n",
    "# Opcional: puedes usar estilo matplotlib también (se combinan bien)\n",
    "plt.style.use('ggplot')  # Cambia por 'fivethirtyeight', 'dark_background', etc. si quieres\n",
    "\n",
    "# Otras configuraciones\n",
    "plt.rcParams['figure.figsize'] = (12, 8)\n",
    "plt.rcParams['axes.grid'] = True\n",
    "\n",
    "# Ver los estilos disponibles (por si quieres cambiar)\n",
    "print(plt.style.available)\n"
   ]
  },
  {
   "cell_type": "markdown",
   "metadata": {},
   "source": [
    "## Carga del Dataset\n",
    "\n",
    "Cargamos el dataset de víctimas del conflicto armado desde el archivo CSV."
   ]
  },
  {
   "cell_type": "code",
   "execution_count": 13,
   "metadata": {},
   "outputs": [
    {
     "name": "stdout",
     "output_type": "stream",
     "text": [
      "Dataset cargado exitosamente. Dimensiones: (2431164, 17)\n"
     ]
    }
   ],
   "source": [
    "# Define the relative path to the data file\n",
    "data_path = '../data/raw/victimas_por_hechos_departamental_20250416.csv'\n",
    "\n",
    "# Load the dataset\n",
    "try:\n",
    "    # Attempt to read with UTF-8 encoding first\n",
    "    df = pd.read_csv(data_path, encoding='utf-8') \n",
    "except UnicodeDecodeError:\n",
    "    try:\n",
    "        # Fallback to Latin-1 encoding if UTF-8 fails\n",
    "        df = pd.read_csv(data_path, encoding='latin1') \n",
    "    except Exception as e:\n",
    "        print(f\"Error loading CSV file: {e}\")\n",
    "        df = None # Indicate failure by setting df to None\n",
    "\n",
    "# Verificar si el dataset se cargó correctamente\n",
    "if df is not None:\n",
    "    print(f\"Dataset cargado exitosamente. Dimensiones: {df.shape}\")\n",
    "else:\n",
    "    print(\"Error al cargar el dataset. Por favor, verifica la ruta y la codificación del archivo.\")"
   ]
  },
  {
   "cell_type": "markdown",
   "metadata": {},
   "source": [
    "# Eliminacion de columnas innecesarias\n",
    "Se eliminaran las columnas que no sean necesarias para el analisis como NOM_RPT, COD_PAI y PAIS"
   ]
  },
  {
   "cell_type": "code",
   "execution_count": null,
   "metadata": {},
   "outputs": [
    {
     "name": "stdout",
     "output_type": "stream",
     "text": [
      "Forma inicial del dataframe: (2431164, 17)\n",
      "Columnas del dataframe: ['FECHA_CORTE', 'NOM_RPT', 'COD_PAIS', 'PAIS', 'COD_ESTADO_DEPTO', 'ESTADO_DEPTO', 'PARAM_HECHO', 'HECHO', 'SEXO', 'ETNIA', 'DISCAPACIDAD', 'CICLO_VITAL', 'PER_OCU', 'PER_DECLA', 'PER_UBIC', 'PER_SA', 'EVENTOS']\n"
     ]
    }
   ],
   "source": [
    "# Mostrar forma inicial del dataframe y vista previa\n",
    "print(f\"Forma inicial del dataframe: {df.shape}\")\n",
    "print(f\"Columnas del dataframe: {df.columns.tolist()}\")"
   ]
  },
  {
   "cell_type": "code",
   "execution_count": 19,
   "metadata": {},
   "outputs": [],
   "source": [
    "# Columnas que se eliminarán\n",
    "columns_to_drop = [\"NOM_RPT\", \"COD_PAIS\", \"PAIS\", \"COD_ESTADO_DEPTO\"]\n",
    "\n",
    "# Eliminar columnas especificadas\n",
    "df = df.drop(columns=columns_to_drop)"
   ]
  },
  {
   "cell_type": "code",
   "execution_count": 20,
   "metadata": {},
   "outputs": [
    {
     "name": "stdout",
     "output_type": "stream",
     "text": [
      "Forma final del dataframe después de eliminar columnas: (2431164, 13)\n",
      "Columnas del dataframe: ['FECHA_CORTE', 'ESTADO_DEPTO', 'PARAM_HECHO', 'HECHO', 'SEXO', 'ETNIA', 'DISCAPACIDAD', 'CICLO_VITAL', 'PER_OCU', 'PER_DECLA', 'PER_UBIC', 'PER_SA', 'EVENTOS']\n"
     ]
    },
    {
     "data": {
      "text/html": [
       "<div>\n",
       "<style scoped>\n",
       "    .dataframe tbody tr th:only-of-type {\n",
       "        vertical-align: middle;\n",
       "    }\n",
       "\n",
       "    .dataframe tbody tr th {\n",
       "        vertical-align: top;\n",
       "    }\n",
       "\n",
       "    .dataframe thead th {\n",
       "        text-align: right;\n",
       "    }\n",
       "</style>\n",
       "<table border=\"1\" class=\"dataframe\">\n",
       "  <thead>\n",
       "    <tr style=\"text-align: right;\">\n",
       "      <th></th>\n",
       "      <th>FECHA_CORTE</th>\n",
       "      <th>ESTADO_DEPTO</th>\n",
       "      <th>PARAM_HECHO</th>\n",
       "      <th>HECHO</th>\n",
       "      <th>SEXO</th>\n",
       "      <th>ETNIA</th>\n",
       "      <th>DISCAPACIDAD</th>\n",
       "      <th>CICLO_VITAL</th>\n",
       "      <th>PER_OCU</th>\n",
       "      <th>PER_DECLA</th>\n",
       "      <th>PER_UBIC</th>\n",
       "      <th>PER_SA</th>\n",
       "      <th>EVENTOS</th>\n",
       "    </tr>\n",
       "  </thead>\n",
       "  <tbody>\n",
       "    <tr>\n",
       "      <th>0</th>\n",
       "      <td>2022/03/31 00:00:00.000000000</td>\n",
       "      <td>Bolivar</td>\n",
       "      <td>5</td>\n",
       "      <td>Desplazamiento forzado</td>\n",
       "      <td>Hombre</td>\n",
       "      <td>Gitano (RROM) (Acreditado RA)</td>\n",
       "      <td>Ninguna</td>\n",
       "      <td>entre 18 y 28</td>\n",
       "      <td>3.0</td>\n",
       "      <td>4.0</td>\n",
       "      <td>3.0</td>\n",
       "      <td>3.0</td>\n",
       "      <td>3.0</td>\n",
       "    </tr>\n",
       "    <tr>\n",
       "      <th>1</th>\n",
       "      <td>2022/02/28 00:00:00.000000000</td>\n",
       "      <td>Cesar</td>\n",
       "      <td>5</td>\n",
       "      <td>Desplazamiento forzado</td>\n",
       "      <td>Mujer</td>\n",
       "      <td>Raizal del Archipielago de San Andres y Provid...</td>\n",
       "      <td>Multiple</td>\n",
       "      <td>entre 61 y 100</td>\n",
       "      <td>1.0</td>\n",
       "      <td>NaN</td>\n",
       "      <td>NaN</td>\n",
       "      <td>NaN</td>\n",
       "      <td>1.0</td>\n",
       "    </tr>\n",
       "    <tr>\n",
       "      <th>2</th>\n",
       "      <td>2022/04/30 00:00:00.000000000</td>\n",
       "      <td>Caqueta</td>\n",
       "      <td>5</td>\n",
       "      <td>Desplazamiento forzado</td>\n",
       "      <td>Hombre</td>\n",
       "      <td>Gitano (RROM) (Acreditado RA)</td>\n",
       "      <td>Ninguna</td>\n",
       "      <td>entre 29 y 60</td>\n",
       "      <td>2.0</td>\n",
       "      <td>NaN</td>\n",
       "      <td>NaN</td>\n",
       "      <td>NaN</td>\n",
       "      <td>2.0</td>\n",
       "    </tr>\n",
       "    <tr>\n",
       "      <th>3</th>\n",
       "      <td>2022/05/31 00:00:00.000000000</td>\n",
       "      <td>Guaviare</td>\n",
       "      <td>5</td>\n",
       "      <td>Desplazamiento forzado</td>\n",
       "      <td>Hombre</td>\n",
       "      <td>Negro(a) o Afrocolombiano(a)</td>\n",
       "      <td>Fisica</td>\n",
       "      <td>entre 61 y 100</td>\n",
       "      <td>11.0</td>\n",
       "      <td>7.0</td>\n",
       "      <td>4.0</td>\n",
       "      <td>4.0</td>\n",
       "      <td>12.0</td>\n",
       "    </tr>\n",
       "    <tr>\n",
       "      <th>4</th>\n",
       "      <td>2022/04/30 00:00:00.000000000</td>\n",
       "      <td>Caqueta</td>\n",
       "      <td>2</td>\n",
       "      <td>Amenaza</td>\n",
       "      <td>Hombre</td>\n",
       "      <td>Indigena (Acreditado RA)</td>\n",
       "      <td>Por Establecer</td>\n",
       "      <td>entre 12 y 17</td>\n",
       "      <td>1.0</td>\n",
       "      <td>1.0</td>\n",
       "      <td>1.0</td>\n",
       "      <td>1.0</td>\n",
       "      <td>1.0</td>\n",
       "    </tr>\n",
       "  </tbody>\n",
       "</table>\n",
       "</div>"
      ],
      "text/plain": [
       "                     FECHA_CORTE ESTADO_DEPTO  PARAM_HECHO  \\\n",
       "0  2022/03/31 00:00:00.000000000      Bolivar            5   \n",
       "1  2022/02/28 00:00:00.000000000        Cesar            5   \n",
       "2  2022/04/30 00:00:00.000000000      Caqueta            5   \n",
       "3  2022/05/31 00:00:00.000000000     Guaviare            5   \n",
       "4  2022/04/30 00:00:00.000000000      Caqueta            2   \n",
       "\n",
       "                    HECHO    SEXO  \\\n",
       "0  Desplazamiento forzado  Hombre   \n",
       "1  Desplazamiento forzado   Mujer   \n",
       "2  Desplazamiento forzado  Hombre   \n",
       "3  Desplazamiento forzado  Hombre   \n",
       "4                 Amenaza  Hombre   \n",
       "\n",
       "                                               ETNIA    DISCAPACIDAD  \\\n",
       "0                      Gitano (RROM) (Acreditado RA)         Ninguna   \n",
       "1  Raizal del Archipielago de San Andres y Provid...        Multiple   \n",
       "2                      Gitano (RROM) (Acreditado RA)         Ninguna   \n",
       "3                       Negro(a) o Afrocolombiano(a)          Fisica   \n",
       "4                           Indigena (Acreditado RA)  Por Establecer   \n",
       "\n",
       "      CICLO_VITAL  PER_OCU  PER_DECLA  PER_UBIC  PER_SA  EVENTOS  \n",
       "0   entre 18 y 28      3.0        4.0       3.0     3.0      3.0  \n",
       "1  entre 61 y 100      1.0        NaN       NaN     NaN      1.0  \n",
       "2   entre 29 y 60      2.0        NaN       NaN     NaN      2.0  \n",
       "3  entre 61 y 100     11.0        7.0       4.0     4.0     12.0  \n",
       "4   entre 12 y 17      1.0        1.0       1.0     1.0      1.0  "
      ]
     },
     "execution_count": 20,
     "metadata": {},
     "output_type": "execute_result"
    }
   ],
   "source": [
    "# Mostrar forma final del dataframe\n",
    "print(f\"Forma final del dataframe después de eliminar columnas: {df.shape}\")\n",
    "print(f\"Columnas del dataframe: {df.columns.tolist()}\")\n",
    "df.head()"
   ]
  },
  {
   "cell_type": "markdown",
   "metadata": {},
   "source": [
    "# Corrección de errores de codificación y unificación de categorías\n",
    "\n",
    "Se identificaron y reemplazaron valores con errores de codificación en varias columnas, con el fin de mejorar la calidad y consistencia de los datos. A continuación, se detallan los ajustes realizados:\n",
    "\n",
    "### Columna: `ESTADO_DEPTO`\n",
    "\n",
    "Valores corregidos:\n",
    "\n",
    "* `\"Nari�o\"`\n",
    "* `\"NariÃ±o\"`\n",
    "\n",
    "Reemplazados por:\n",
    "\n",
    "* `\"Nariño\"`\n",
    "\n",
    "---\n",
    "\n",
    "### Columna: `HECHO`\n",
    "\n",
    "Valores corregidos:\n",
    "\n",
    "* `\"Desaparici�n forzada\"`\n",
    "* `\"DesapariciÃ³n forzada\"`\n",
    "\n",
    "Reemplazados por:\n",
    "\n",
    "* `\"Desaparición forzada\"`\n",
    "\n",
    "---\n",
    "\n",
    "* `\"VinculaciÃ³n de NiÃ±os NiÃ±as y Adolescentes a Actividades Relacionadas con grupos armados\"`\n",
    "* `\"Vinculaci�n de Ni�os Ni�as y Adolescentes a Actividades Relacionadas con grupos armados\"`\n",
    "\n",
    "Reemplazados por:\n",
    "\n",
    "* `\"Vinculación de Niños Niñas y Adolescentes a Actividades Relacionadas con grupos armados\"`\n",
    "\n",
    "---\n",
    "\n",
    "* `\"Minas Antipersonal, Munici�n sin Explotar y Artefacto Explosivo improvisado\"`\n",
    "\n",
    "Reemplazado por:\n",
    "\n",
    "* `\"Minas Antipersonal, Munición sin Explotar y Artefacto Explosivo improvisado\"`\n",
    "\n",
    "---\n",
    "\n",
    "### Columna: `ETNIA`\n",
    "\n",
    "Unificación de categorías para facilitar el análisis:\n",
    "\n",
    "Valores originales:\n",
    "\n",
    "* `\"Negro (Acreditado RA)\"`\n",
    "* `\"Afrocolombiano (Acreditado RA)\"`\n",
    "\n",
    "Reemplazados por:\n",
    "\n",
    "* `\"Negro(a) o Afrocolombiano(a) (Acreditado RA)\"`\n"
   ]
  },
  {
   "cell_type": "code",
   "execution_count": 22,
   "metadata": {},
   "outputs": [],
   "source": [
    "# Corrección de errores de codificación\n",
    "\n",
    "df['ESTADO_DEPTO'] = df['ESTADO_DEPTO'].replace({\n",
    "    'Nari�o': 'Nariño',\n",
    "    'NariÃ±o': 'Nariño'\n",
    "})\n",
    "\n",
    "df['HECHO'] = df['HECHO'].replace({\n",
    "    'Desaparici�n forzada': 'Desaparición forzada',\n",
    "    'DesapariciÃ³n forzada': 'Desaparición forzada',\n",
    "    'VinculaciÃ³n de NiÃ±os NiÃ±as y Adolescentes a Actividades Relacionadas con grupos armados':\n",
    "        'Vinculación de Niños Niñas y Adolescentes a Actividades Relacionadas con grupos armados',\n",
    "    'Vinculaci�n de Ni�os Ni�as y Adolescentes a Actividades Relacionadas con grupos armados':\n",
    "        'Vinculación de Niños Niñas y Adolescentes a Actividades Relacionadas con grupos armados',\n",
    "    'Minas Antipersonal, Munici�n sin Explotar y Artefacto Explosivo improvisado':\n",
    "        'Minas Antipersonal, Munición sin Explotar y Artefacto Explosivo improvisado'\n",
    "})\n",
    "\n",
    "df['ETNIA'] = df['ETNIA'].replace({\n",
    "    'Negro (Acreditado RA)': 'Negro(a) o Afrocolombiano(a) (Acreditado RA)',\n",
    "    'Afrocolombiano (Acreditado RA)': 'Negro(a) o Afrocolombiano(a) (Acreditado RA)'\n",
    "})\n"
   ]
  },
  {
   "cell_type": "markdown",
   "metadata": {},
   "source": [
    "# Exportamos los datos limpios a un archivo CSV\n",
    "Se exporta el archivo CSV con los datos limpios en en ´/data/processed/victimas_por_hechos_departamental_20250416.csv´ para su posterior análisis"
   ]
  },
  {
   "cell_type": "code",
   "execution_count": 27,
   "metadata": {},
   "outputs": [],
   "source": [
    "import csv\n",
    "import os\n",
    "\n",
    "df.to_csv(\n",
    "    path_or_buf='../data/processed/victimas_por_hechos_departamental_20250416.csv',\n",
    "       sep=',',\n",
    "    na_rep='',\n",
    "    header=True,\n",
    "    index=False,\n",
    "    encoding='utf-8',\n",
    "    quoting=csv.QUOTE_MINIMAL,\n",
    "    lineterminator=os.linesep,\n",
    "    quotechar='\"',\n",
    "    decimal='.',\n",
    "    errors='strict'\n",
    ")"
   ]
  }
 ],
 "metadata": {
  "kernelspec": {
   "display_name": "Python 3",
   "language": "python",
   "name": "python3"
  },
  "language_info": {
   "codemirror_mode": {
    "name": "ipython",
    "version": 3
   },
   "file_extension": ".py",
   "mimetype": "text/x-python",
   "name": "python",
   "nbconvert_exporter": "python",
   "pygments_lexer": "ipython3",
   "version": "3.12.4"
  }
 },
 "nbformat": 4,
 "nbformat_minor": 2
}
